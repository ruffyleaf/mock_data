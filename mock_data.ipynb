{
 "cells": [
  {
   "cell_type": "code",
   "execution_count": 1,
   "id": "a61302dd",
   "metadata": {},
   "outputs": [],
   "source": [
    "from OrderGenerator import ProductGenerator"
   ]
  },
  {
   "cell_type": "code",
   "execution_count": 8,
   "id": "aa37dd2d",
   "metadata": {},
   "outputs": [],
   "source": [
    "class NewGenerator:\n",
    "    \n",
    "    def __init__(self, hello):\n",
    "        self.hello = hello"
   ]
  },
  {
   "cell_type": "code",
   "execution_count": 2,
   "id": "ddc4628f",
   "metadata": {},
   "outputs": [],
   "source": [
    "fruits = ['durian', 'mangosteen', 'mango', 'orange', 'apple', 'pear', 'jackfruit', 'longan']"
   ]
  },
  {
   "cell_type": "code",
   "execution_count": 4,
   "id": "0ee2179f",
   "metadata": {},
   "outputs": [],
   "source": [
    "with open('new.csv', 'w') as f:\n",
    "    f.write('order_id, item, qty\\n')\n",
    "    for i in range(1000):\n",
    "        pg = ProductGenerator(fruits)\n",
    "        pg.create_order_id()\n",
    "        \n",
    "        f.write(str(pg.order_id) + ',' + pg.fruit + ',' + str(pg.quantity) + '\\n')"
   ]
  },
  {
   "cell_type": "code",
   "execution_count": 9,
   "id": "677a5435",
   "metadata": {},
   "outputs": [],
   "source": [
    "ng = NewGenerator('hello world')"
   ]
  },
  {
   "cell_type": "code",
   "execution_count": 10,
   "id": "402e3b7e",
   "metadata": {},
   "outputs": [
    {
     "data": {
      "text/plain": [
       "'hello world'"
      ]
     },
     "execution_count": 10,
     "metadata": {},
     "output_type": "execute_result"
    }
   ],
   "source": [
    "ng.hello"
   ]
  },
  {
   "cell_type": "code",
   "execution_count": 12,
   "id": "dc326c77",
   "metadata": {},
   "outputs": [],
   "source": [
    "import random"
   ]
  },
  {
   "cell_type": "code",
   "execution_count": 23,
   "id": "032e8e26",
   "metadata": {},
   "outputs": [],
   "source": [
    "def create_order_id(x):\n",
    "    temp_list = []\n",
    "    for i in range(x):\n",
    "        temp_list.append(random.randint(3, 9))\n",
    "        \n",
    "    return temp_list\n",
    "\n",
    "def create_items(x, item_list):\n",
    "    temp_list = []\n",
    "    for i in range(x):\n",
    "        temp_list.append(random.choice(item_list))\n",
    "        \n",
    "    return temp_list"
   ]
  },
  {
   "cell_type": "code",
   "execution_count": 13,
   "id": "57c354c2",
   "metadata": {},
   "outputs": [
    {
     "data": {
      "text/plain": [
       "4"
      ]
     },
     "execution_count": 13,
     "metadata": {},
     "output_type": "execute_result"
    }
   ],
   "source": [
    "random.randint(3, 9)"
   ]
  },
  {
   "cell_type": "code",
   "execution_count": 21,
   "id": "977b44e6",
   "metadata": {},
   "outputs": [],
   "source": [
    "order_ids = create_order_id(100)"
   ]
  },
  {
   "cell_type": "code",
   "execution_count": 24,
   "id": "a6164f65",
   "metadata": {},
   "outputs": [],
   "source": [
    "items = create_items(100, fruits)"
   ]
  },
  {
   "cell_type": "code",
   "execution_count": 27,
   "id": "d31a8f7f",
   "metadata": {},
   "outputs": [],
   "source": [
    "zip_list = zip(order_ids, items)"
   ]
  },
  {
   "cell_type": "code",
   "execution_count": 30,
   "id": "c409cf5f",
   "metadata": {},
   "outputs": [
    {
     "name": "stdout",
     "output_type": "stream",
     "text": [
      "((4, 'jackfruit'), (3, 'apple'), (6, 'mango'), (5, 'durian'), (6, 'jackfruit'), (7, 'pear'), (5, 'apple'), (6, 'orange'), (8, 'jackfruit'), (5, 'durian'), (7, 'apple'), (4, 'apple'), (6, 'orange'), (7, 'longan'), (9, 'durian'), (3, 'mango'), (6, 'orange'), (5, 'longan'), (3, 'pear'), (6, 'pear'), (6, 'orange'), (4, 'mangosteen'), (9, 'longan'), (6, 'mango'), (6, 'mango'), (8, 'apple'), (5, 'pear'), (4, 'apple'), (8, 'apple'), (5, 'pear'), (9, 'pear'), (8, 'pear'), (8, 'durian'), (9, 'mangosteen'), (8, 'mango'), (3, 'apple'), (5, 'orange'), (9, 'apple'), (9, 'durian'), (8, 'longan'), (4, 'durian'), (7, 'mangosteen'), (9, 'longan'), (4, 'orange'), (6, 'mango'), (9, 'mango'), (8, 'mango'), (5, 'mangosteen'), (9, 'jackfruit'), (7, 'apple'), (8, 'orange'), (9, 'mangosteen'), (3, 'longan'), (5, 'jackfruit'), (6, 'pear'), (7, 'longan'), (5, 'pear'), (4, 'durian'), (9, 'mangosteen'), (3, 'mangosteen'), (4, 'pear'), (8, 'pear'), (4, 'mangosteen'), (8, 'mango'), (4, 'pear'), (9, 'longan'), (9, 'mangosteen'), (3, 'apple'), (5, 'orange'), (9, 'durian'), (9, 'jackfruit'), (7, 'mangosteen'), (7, 'durian'), (3, 'durian'), (3, 'jackfruit'), (6, 'jackfruit'), (7, 'mango'), (3, 'orange'), (9, 'apple'), (4, 'pear'), (3, 'apple'), (8, 'pear'), (8, 'pear'), (9, 'pear'), (3, 'longan'), (8, 'mango'), (8, 'mangosteen'), (3, 'orange'), (8, 'mangosteen'), (9, 'durian'), (4, 'mango'), (7, 'apple'), (5, 'jackfruit'), (5, 'durian'), (8, 'durian'), (9, 'mango'), (9, 'apple'), (5, 'longan'), (4, 'orange'), (9, 'jackfruit'))\n"
     ]
    }
   ],
   "source": [
    "print(tuple(zip_list))"
   ]
  }
 ],
 "metadata": {
  "kernelspec": {
   "display_name": "Python 3",
   "language": "python",
   "name": "python3"
  },
  "language_info": {
   "codemirror_mode": {
    "name": "ipython",
    "version": 3
   },
   "file_extension": ".py",
   "mimetype": "text/x-python",
   "name": "python",
   "nbconvert_exporter": "python",
   "pygments_lexer": "ipython3",
   "version": "3.8.8"
  }
 },
 "nbformat": 4,
 "nbformat_minor": 5
}
